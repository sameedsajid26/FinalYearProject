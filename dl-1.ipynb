{
 "cells": [
  {
   "cell_type": "code",
   "execution_count": 6,
   "metadata": {},
   "outputs": [],
   "source": [
    "import tensorflow as tf\n",
    "import keras\n",
    "from keras import initializers\n",
    "from keras.layers import Dense\n",
    "from keras.models import Sequential\n",
    "from keras import optimizers\n",
    "\n",
    "import pandas as pd\n",
    "import numpy as np\n",
    "\n",
    "\n",
    "import sys\n",
    "import os\n",
    "# sys.path.insert(0, '../src/')\n",
    "\n",
    "%matplotlib inline\n",
    "import matplotlib.pyplot as plt"
   ]
  },
  {
   "cell_type": "code",
   "execution_count": 7,
   "metadata": {},
   "outputs": [
    {
     "data": {
      "text/plain": [
       "(1000, 300)"
      ]
     },
     "execution_count": 7,
     "metadata": {},
     "output_type": "execute_result"
    }
   ],
   "source": [
    "import numpy as np\n",
    "import pandas as pd\n",
    "\n",
    "\n",
    "data = np.loadtxt('//Users/sameedsajid/opt/anaconda3/pkgs/lammps-2022.06.23-py310h33d413e_mpich_0/FYP-code/dl-code/x_data_after_PCA.txt')\n",
    "\n",
    "df = pd.DataFrame(data)\n",
    "\n",
    "df.astype(int)\n",
    "df.shape"
   ]
  },
  {
   "cell_type": "code",
   "execution_count": 38,
   "metadata": {},
   "outputs": [
    {
     "data": {
      "text/html": [
       "<div>\n",
       "<style scoped>\n",
       "    .dataframe tbody tr th:only-of-type {\n",
       "        vertical-align: middle;\n",
       "    }\n",
       "\n",
       "    .dataframe tbody tr th {\n",
       "        vertical-align: top;\n",
       "    }\n",
       "\n",
       "    .dataframe thead th {\n",
       "        text-align: right;\n",
       "    }\n",
       "</style>\n",
       "<table border=\"1\" class=\"dataframe\">\n",
       "  <thead>\n",
       "    <tr style=\"text-align: right;\">\n",
       "      <th></th>\n",
       "      <th>0</th>\n",
       "      <th>1</th>\n",
       "      <th>2</th>\n",
       "      <th>3</th>\n",
       "      <th>4</th>\n",
       "      <th>5</th>\n",
       "      <th>6</th>\n",
       "      <th>7</th>\n",
       "      <th>8</th>\n",
       "      <th>9</th>\n",
       "      <th>...</th>\n",
       "      <th>290</th>\n",
       "      <th>291</th>\n",
       "      <th>292</th>\n",
       "      <th>293</th>\n",
       "      <th>294</th>\n",
       "      <th>295</th>\n",
       "      <th>296</th>\n",
       "      <th>297</th>\n",
       "      <th>298</th>\n",
       "      <th>299</th>\n",
       "    </tr>\n",
       "  </thead>\n",
       "  <tbody>\n",
       "    <tr>\n",
       "      <th>0</th>\n",
       "      <td>0.951157</td>\n",
       "      <td>0.607467</td>\n",
       "      <td>0.389914</td>\n",
       "      <td>0.208188</td>\n",
       "      <td>0.425486</td>\n",
       "      <td>0.674957</td>\n",
       "      <td>1.003797</td>\n",
       "      <td>0.149232</td>\n",
       "      <td>0.561872</td>\n",
       "      <td>-1.149072</td>\n",
       "      <td>...</td>\n",
       "      <td>-0.123894</td>\n",
       "      <td>-0.394971</td>\n",
       "      <td>-0.085331</td>\n",
       "      <td>0.171139</td>\n",
       "      <td>0.006625</td>\n",
       "      <td>-0.150932</td>\n",
       "      <td>0.011087</td>\n",
       "      <td>0.254102</td>\n",
       "      <td>0.088110</td>\n",
       "      <td>-0.370091</td>\n",
       "    </tr>\n",
       "    <tr>\n",
       "      <th>1</th>\n",
       "      <td>0.111151</td>\n",
       "      <td>-0.320893</td>\n",
       "      <td>0.482795</td>\n",
       "      <td>1.452752</td>\n",
       "      <td>-0.378758</td>\n",
       "      <td>1.502662</td>\n",
       "      <td>1.150281</td>\n",
       "      <td>-0.380812</td>\n",
       "      <td>-0.629119</td>\n",
       "      <td>-1.078705</td>\n",
       "      <td>...</td>\n",
       "      <td>0.184448</td>\n",
       "      <td>0.573773</td>\n",
       "      <td>0.408626</td>\n",
       "      <td>-0.212467</td>\n",
       "      <td>0.287176</td>\n",
       "      <td>0.618241</td>\n",
       "      <td>-0.580413</td>\n",
       "      <td>0.572183</td>\n",
       "      <td>0.100989</td>\n",
       "      <td>0.249755</td>\n",
       "    </tr>\n",
       "    <tr>\n",
       "      <th>2</th>\n",
       "      <td>-0.144572</td>\n",
       "      <td>-0.382381</td>\n",
       "      <td>0.216729</td>\n",
       "      <td>0.063989</td>\n",
       "      <td>-0.729272</td>\n",
       "      <td>0.244544</td>\n",
       "      <td>-0.648357</td>\n",
       "      <td>-0.507745</td>\n",
       "      <td>-0.641268</td>\n",
       "      <td>-1.007724</td>\n",
       "      <td>...</td>\n",
       "      <td>0.267794</td>\n",
       "      <td>-0.335874</td>\n",
       "      <td>-0.290042</td>\n",
       "      <td>-0.314034</td>\n",
       "      <td>0.043655</td>\n",
       "      <td>-0.035271</td>\n",
       "      <td>0.471425</td>\n",
       "      <td>-0.398830</td>\n",
       "      <td>0.274656</td>\n",
       "      <td>0.052358</td>\n",
       "    </tr>\n",
       "    <tr>\n",
       "      <th>3</th>\n",
       "      <td>-1.286049</td>\n",
       "      <td>0.431964</td>\n",
       "      <td>0.322820</td>\n",
       "      <td>-0.774332</td>\n",
       "      <td>-0.572374</td>\n",
       "      <td>-0.689819</td>\n",
       "      <td>-0.018115</td>\n",
       "      <td>-1.111945</td>\n",
       "      <td>-0.324488</td>\n",
       "      <td>-0.055543</td>\n",
       "      <td>...</td>\n",
       "      <td>0.261560</td>\n",
       "      <td>-0.031329</td>\n",
       "      <td>0.322077</td>\n",
       "      <td>-0.935332</td>\n",
       "      <td>0.044378</td>\n",
       "      <td>-0.191781</td>\n",
       "      <td>-0.362429</td>\n",
       "      <td>0.621719</td>\n",
       "      <td>0.043018</td>\n",
       "      <td>0.509076</td>\n",
       "    </tr>\n",
       "    <tr>\n",
       "      <th>4</th>\n",
       "      <td>0.622863</td>\n",
       "      <td>0.364295</td>\n",
       "      <td>-0.197725</td>\n",
       "      <td>0.999466</td>\n",
       "      <td>-0.946246</td>\n",
       "      <td>0.065107</td>\n",
       "      <td>-1.086253</td>\n",
       "      <td>-0.408324</td>\n",
       "      <td>1.362969</td>\n",
       "      <td>1.049655</td>\n",
       "      <td>...</td>\n",
       "      <td>-0.040731</td>\n",
       "      <td>0.051289</td>\n",
       "      <td>0.684085</td>\n",
       "      <td>-0.335206</td>\n",
       "      <td>0.201842</td>\n",
       "      <td>0.139078</td>\n",
       "      <td>0.277815</td>\n",
       "      <td>0.246151</td>\n",
       "      <td>0.445722</td>\n",
       "      <td>0.124342</td>\n",
       "    </tr>\n",
       "    <tr>\n",
       "      <th>...</th>\n",
       "      <td>...</td>\n",
       "      <td>...</td>\n",
       "      <td>...</td>\n",
       "      <td>...</td>\n",
       "      <td>...</td>\n",
       "      <td>...</td>\n",
       "      <td>...</td>\n",
       "      <td>...</td>\n",
       "      <td>...</td>\n",
       "      <td>...</td>\n",
       "      <td>...</td>\n",
       "      <td>...</td>\n",
       "      <td>...</td>\n",
       "      <td>...</td>\n",
       "      <td>...</td>\n",
       "      <td>...</td>\n",
       "      <td>...</td>\n",
       "      <td>...</td>\n",
       "      <td>...</td>\n",
       "      <td>...</td>\n",
       "      <td>...</td>\n",
       "    </tr>\n",
       "    <tr>\n",
       "      <th>995</th>\n",
       "      <td>0.415211</td>\n",
       "      <td>0.274312</td>\n",
       "      <td>-0.210650</td>\n",
       "      <td>0.156020</td>\n",
       "      <td>-0.494837</td>\n",
       "      <td>0.772946</td>\n",
       "      <td>0.445524</td>\n",
       "      <td>0.175274</td>\n",
       "      <td>-0.456096</td>\n",
       "      <td>0.280032</td>\n",
       "      <td>...</td>\n",
       "      <td>0.152385</td>\n",
       "      <td>-0.103194</td>\n",
       "      <td>-0.331658</td>\n",
       "      <td>0.920022</td>\n",
       "      <td>0.109923</td>\n",
       "      <td>0.132712</td>\n",
       "      <td>0.747018</td>\n",
       "      <td>-0.238376</td>\n",
       "      <td>0.445399</td>\n",
       "      <td>0.239296</td>\n",
       "    </tr>\n",
       "    <tr>\n",
       "      <th>996</th>\n",
       "      <td>-0.417138</td>\n",
       "      <td>-0.769477</td>\n",
       "      <td>0.007376</td>\n",
       "      <td>-0.727857</td>\n",
       "      <td>-0.305120</td>\n",
       "      <td>-0.515212</td>\n",
       "      <td>-0.373783</td>\n",
       "      <td>0.485191</td>\n",
       "      <td>-1.373472</td>\n",
       "      <td>0.215589</td>\n",
       "      <td>...</td>\n",
       "      <td>0.210851</td>\n",
       "      <td>-0.435042</td>\n",
       "      <td>0.075613</td>\n",
       "      <td>0.141653</td>\n",
       "      <td>-0.029196</td>\n",
       "      <td>-0.037967</td>\n",
       "      <td>-0.195830</td>\n",
       "      <td>-0.299858</td>\n",
       "      <td>-0.238164</td>\n",
       "      <td>-0.556449</td>\n",
       "    </tr>\n",
       "    <tr>\n",
       "      <th>997</th>\n",
       "      <td>-0.585988</td>\n",
       "      <td>1.128632</td>\n",
       "      <td>1.056327</td>\n",
       "      <td>0.225606</td>\n",
       "      <td>0.368401</td>\n",
       "      <td>-0.645918</td>\n",
       "      <td>-0.100313</td>\n",
       "      <td>0.649377</td>\n",
       "      <td>-0.485574</td>\n",
       "      <td>-0.542590</td>\n",
       "      <td>...</td>\n",
       "      <td>0.334400</td>\n",
       "      <td>0.318018</td>\n",
       "      <td>-0.441318</td>\n",
       "      <td>-0.099196</td>\n",
       "      <td>-0.512942</td>\n",
       "      <td>-0.488670</td>\n",
       "      <td>0.306594</td>\n",
       "      <td>0.208425</td>\n",
       "      <td>0.238288</td>\n",
       "      <td>-0.105069</td>\n",
       "    </tr>\n",
       "    <tr>\n",
       "      <th>998</th>\n",
       "      <td>0.695446</td>\n",
       "      <td>0.834680</td>\n",
       "      <td>-0.338691</td>\n",
       "      <td>-1.388238</td>\n",
       "      <td>-0.270168</td>\n",
       "      <td>-0.246048</td>\n",
       "      <td>-1.185379</td>\n",
       "      <td>0.368317</td>\n",
       "      <td>-0.189336</td>\n",
       "      <td>0.331041</td>\n",
       "      <td>...</td>\n",
       "      <td>0.178534</td>\n",
       "      <td>0.037210</td>\n",
       "      <td>0.307198</td>\n",
       "      <td>-0.422100</td>\n",
       "      <td>-0.000628</td>\n",
       "      <td>0.162042</td>\n",
       "      <td>0.198278</td>\n",
       "      <td>-0.571292</td>\n",
       "      <td>0.102630</td>\n",
       "      <td>-0.522352</td>\n",
       "    </tr>\n",
       "    <tr>\n",
       "      <th>999</th>\n",
       "      <td>-0.869174</td>\n",
       "      <td>-1.317698</td>\n",
       "      <td>0.594663</td>\n",
       "      <td>0.049337</td>\n",
       "      <td>-0.611577</td>\n",
       "      <td>-0.089723</td>\n",
       "      <td>0.272906</td>\n",
       "      <td>-0.589195</td>\n",
       "      <td>0.236179</td>\n",
       "      <td>0.834670</td>\n",
       "      <td>...</td>\n",
       "      <td>-0.209078</td>\n",
       "      <td>-0.012440</td>\n",
       "      <td>-0.098416</td>\n",
       "      <td>-0.776644</td>\n",
       "      <td>0.269200</td>\n",
       "      <td>-0.671942</td>\n",
       "      <td>0.334244</td>\n",
       "      <td>-0.318982</td>\n",
       "      <td>-0.034940</td>\n",
       "      <td>0.029564</td>\n",
       "    </tr>\n",
       "  </tbody>\n",
       "</table>\n",
       "<p>1000 rows × 300 columns</p>\n",
       "</div>"
      ],
      "text/plain": [
       "          0         1         2         3         4         5         6    \\\n",
       "0    0.951157  0.607467  0.389914  0.208188  0.425486  0.674957  1.003797   \n",
       "1    0.111151 -0.320893  0.482795  1.452752 -0.378758  1.502662  1.150281   \n",
       "2   -0.144572 -0.382381  0.216729  0.063989 -0.729272  0.244544 -0.648357   \n",
       "3   -1.286049  0.431964  0.322820 -0.774332 -0.572374 -0.689819 -0.018115   \n",
       "4    0.622863  0.364295 -0.197725  0.999466 -0.946246  0.065107 -1.086253   \n",
       "..        ...       ...       ...       ...       ...       ...       ...   \n",
       "995  0.415211  0.274312 -0.210650  0.156020 -0.494837  0.772946  0.445524   \n",
       "996 -0.417138 -0.769477  0.007376 -0.727857 -0.305120 -0.515212 -0.373783   \n",
       "997 -0.585988  1.128632  1.056327  0.225606  0.368401 -0.645918 -0.100313   \n",
       "998  0.695446  0.834680 -0.338691 -1.388238 -0.270168 -0.246048 -1.185379   \n",
       "999 -0.869174 -1.317698  0.594663  0.049337 -0.611577 -0.089723  0.272906   \n",
       "\n",
       "          7         8         9    ...       290       291       292  \\\n",
       "0    0.149232  0.561872 -1.149072  ... -0.123894 -0.394971 -0.085331   \n",
       "1   -0.380812 -0.629119 -1.078705  ...  0.184448  0.573773  0.408626   \n",
       "2   -0.507745 -0.641268 -1.007724  ...  0.267794 -0.335874 -0.290042   \n",
       "3   -1.111945 -0.324488 -0.055543  ...  0.261560 -0.031329  0.322077   \n",
       "4   -0.408324  1.362969  1.049655  ... -0.040731  0.051289  0.684085   \n",
       "..        ...       ...       ...  ...       ...       ...       ...   \n",
       "995  0.175274 -0.456096  0.280032  ...  0.152385 -0.103194 -0.331658   \n",
       "996  0.485191 -1.373472  0.215589  ...  0.210851 -0.435042  0.075613   \n",
       "997  0.649377 -0.485574 -0.542590  ...  0.334400  0.318018 -0.441318   \n",
       "998  0.368317 -0.189336  0.331041  ...  0.178534  0.037210  0.307198   \n",
       "999 -0.589195  0.236179  0.834670  ... -0.209078 -0.012440 -0.098416   \n",
       "\n",
       "          293       294       295       296       297       298       299  \n",
       "0    0.171139  0.006625 -0.150932  0.011087  0.254102  0.088110 -0.370091  \n",
       "1   -0.212467  0.287176  0.618241 -0.580413  0.572183  0.100989  0.249755  \n",
       "2   -0.314034  0.043655 -0.035271  0.471425 -0.398830  0.274656  0.052358  \n",
       "3   -0.935332  0.044378 -0.191781 -0.362429  0.621719  0.043018  0.509076  \n",
       "4   -0.335206  0.201842  0.139078  0.277815  0.246151  0.445722  0.124342  \n",
       "..        ...       ...       ...       ...       ...       ...       ...  \n",
       "995  0.920022  0.109923  0.132712  0.747018 -0.238376  0.445399  0.239296  \n",
       "996  0.141653 -0.029196 -0.037967 -0.195830 -0.299858 -0.238164 -0.556449  \n",
       "997 -0.099196 -0.512942 -0.488670  0.306594  0.208425  0.238288 -0.105069  \n",
       "998 -0.422100 -0.000628  0.162042  0.198278 -0.571292  0.102630 -0.522352  \n",
       "999 -0.776644  0.269200 -0.671942  0.334244 -0.318982 -0.034940  0.029564  \n",
       "\n",
       "[1000 rows x 300 columns]"
      ]
     },
     "execution_count": 38,
     "metadata": {},
     "output_type": "execute_result"
    }
   ],
   "source": [
    "df"
   ]
  },
  {
   "cell_type": "code",
   "execution_count": 8,
   "metadata": {},
   "outputs": [
    {
     "data": {
      "text/plain": [
       "(1000,)"
      ]
     },
     "execution_count": 8,
     "metadata": {},
     "output_type": "execute_result"
    }
   ],
   "source": [
    "y_data = np.loadtxt('/Users/sameedsajid/opt/anaconda3/pkgs/lammps-2022.06.23-py310h33d413e_mpich_0/FYP-code/dl-code/myfile4.txt')\n",
    "\n",
    "y_data.dtype\n",
    "# df = pd.DataFrame(data)\n",
    "y_data.shape"
   ]
  },
  {
   "cell_type": "code",
   "execution_count": 9,
   "metadata": {},
   "outputs": [],
   "source": [
    "from sklearn.model_selection import train_test_split\n",
    "\n",
    "X_train, X_test, y_train, y_test = train_test_split(data, y_data, test_size=0.2, random_state=0)"
   ]
  },
  {
   "cell_type": "code",
   "execution_count": 5,
   "metadata": {},
   "outputs": [],
   "source": [
    "np.savetxt('x_test.txt', X_test)\n",
    "np.savetxt('x_train.txt', X_train)\n",
    "np.savetxt('y_train.txt',y_train)\n"
   ]
  },
  {
   "cell_type": "code",
   "execution_count": 40,
   "metadata": {},
   "outputs": [],
   "source": [
    "y_train = y_train.reshape(-1,1)\n",
    "y_test = y_test.reshape(-1,1)"
   ]
  },
  {
   "cell_type": "code",
   "execution_count": 41,
   "metadata": {},
   "outputs": [
    {
     "data": {
      "text/plain": [
       "(800, 300)"
      ]
     },
     "execution_count": 41,
     "metadata": {},
     "output_type": "execute_result"
    }
   ],
   "source": [
    "X_train.shape"
   ]
  },
  {
   "cell_type": "code",
   "execution_count": 62,
   "metadata": {},
   "outputs": [
    {
     "name": "stdout",
     "output_type": "stream",
     "text": [
      "Model: \"sequential_8\"\n",
      "_________________________________________________________________\n",
      " Layer (type)                Output Shape              Param #   \n",
      "=================================================================\n",
      " Hidden_layer_0 (Dense)      (None, 80)                24080     \n",
      "                                                                 \n",
      " Hidden_layer_1 (Dense)      (None, 80)                6480      \n",
      "                                                                 \n",
      " Hidden_layer_2 (Dense)      (None, 80)                6480      \n",
      "                                                                 \n",
      " Hidden_layer_3 (Dense)      (None, 80)                6480      \n",
      "                                                                 \n",
      " Output_layer (Dense)        (None, 1)                 81        \n",
      "                                                                 \n",
      "=================================================================\n",
      "Total params: 43,601\n",
      "Trainable params: 43,601\n",
      "Non-trainable params: 0\n",
      "_________________________________________________________________\n"
     ]
    }
   ],
   "source": [
    "kernel_init = initializers.RandomNormal(seed=0)\n",
    "bias_init = initializers.Zeros()\n",
    "# In a sequential model, the first layer must specify the input shape the model will expect; \n",
    "# in this case the value is train_values.shape[1] which is the number\n",
    "# of attributes (properties) and equals 17.\n",
    "\n",
    "model = Sequential()\n",
    "model.add(tf.keras.Input(shape=(X_train.shape[1],), name='Input_layer'))\n",
    "model.add(tf.keras.layers.Dense(80,\n",
    "                                            activation='elu',\n",
    "                                            kernel_regularizer=tf.keras.regularizers.l2(),\n",
    "                                            name=\"Hidden_layer_\"+str(0)))\n",
    "model.add(tf.keras.layers.Dense(80,\n",
    "                                            activation='elu',\n",
    "                                            kernel_regularizer=tf.keras.regularizers.l2(),\n",
    "                                            name=\"Hidden_layer_\"+str(1)))\n",
    "model.add(tf.keras.layers.Dense(80,\n",
    "                                            activation='elu',\n",
    "                                            kernel_regularizer=tf.keras.regularizers.l2(),\n",
    "                                            name=\"Hidden_layer_\"+str(2)))    \n",
    "model.add(tf.keras.layers.Dense(80,\n",
    "                                            activation='elu',\n",
    "                                            kernel_regularizer=tf.keras.regularizers.l2(),\n",
    "                                            name=\"Hidden_layer_\"+str(3)))   \n",
    "model.add(tf.keras.layers.Dense(1,\n",
    "                                    activation= None,\n",
    "                                    name=\"Output_layer\"))                                                                                                                            \n",
    "# model.add(Dense(32, activation='relu', input_shape=(X_train.shape[1] )))\n",
    "# model.add(Dense(64, activation='relu', kernel_initializer=kernel_init, bias_initializer=bias_init))\n",
    "# #model.add(Dense(128, activation='relu', kernel_initializer=kernel_init, bias_initializer=bias_init))\n",
    "# model.add(Dense(1, kernel_initializer=kernel_init, bias_initializer=bias_init))\n",
    "\n",
    "# # DEFINITION OF THE OPTIMIZER\n",
    "\n",
    "# optimizer = optimizers.Adam() # Root Mean Squared Propagation\n",
    "\n",
    "# # This line matches the optimizer to the model and states which metrics will evaluate the model's accuracy\n",
    "# model.compile(loss='mae', optimizer=optimizer, metrics=['mae'])\n",
    "model.summary()"
   ]
  },
  {
   "cell_type": "code",
   "execution_count": 63,
   "metadata": {},
   "outputs": [],
   "source": [
    "optimizer = optimizers.Adam() # Root Mean Squared Propagation\n",
    "model.compile(loss=tf.keras.losses.MeanAbsolutePercentageError(), optimizer=optimizer, metrics=['mae'])"
   ]
  },
  {
   "cell_type": "code",
   "execution_count": 64,
   "metadata": {},
   "outputs": [
    {
     "name": "stdout",
     "output_type": "stream",
     "text": [
      "Current Epoch: 1000 Training Loss: 2.731300                                       \r"
     ]
    },
    {
     "data": {
      "image/png": "[encoded data removed]",
      "text/plain": [
       "<Figure size 640x480 with 1 Axes>"
      ]
     },
     "metadata": {},
     "output_type": "display_data"
    }
   ],
   "source": [
    "class PrintEpNum(keras.callbacks.Callback): # This is a function for the Epoch Counter\n",
    "    def on_epoch_end(self, epoch, logs):\n",
    "        sys.stdout.flush()\n",
    "        sys.stdout.write(\"Current Epoch: \" + str(epoch+1) + \" Training Loss: \" + \"%4f\" %logs.get('loss') + '                                       \\r') # Updates current Epoch Number\n",
    "\n",
    "EPOCHS = 1000 # Number of EPOCHS\n",
    "\n",
    "# HISTORY Object which contains how the model learned\n",
    "\n",
    "# Training Values (Properties), Training Labels (Known Young's Moduli) \n",
    "history = model.fit(X_train, y_train, batch_size=64, \n",
    "                    epochs=EPOCHS, verbose = False, shuffle=False, validation_split=0.15, callbacks=[PrintEpNum()])\n",
    "\n",
    "\n",
    "# PLOTTING HISTORY USING MATPLOTLIB\n",
    "\n",
    "plt.figure()\n",
    "plt.xlabel('Epoch')\n",
    "plt.ylabel('Mean Abs Error')\n",
    "plt.plot(history.epoch, np.array(history.history['mae']),label='Loss on training set') \n",
    "plt.plot(history.epoch, np.array(history.history['val_mae']),label = 'Validation loss')\n",
    "plt.legend()\n",
    "plt.show()"
   ]
  },
  {
   "cell_type": "code",
   "execution_count": 52,
   "metadata": {},
   "outputs": [
    {
     "name": "stdout",
     "output_type": "stream",
     "text": [
      "Testing Set Mean Absolute Error: 11.35\n"
     ]
    }
   ],
   "source": [
    "[loss, mae] = model.evaluate(X_test, y_test, verbose=0)\n",
    "\n",
    "print(\"Testing Set Mean Absolute Error: {:2.2f}\".format(mae))"
   ]
  },
  {
   "cell_type": "code",
   "execution_count": 58,
   "metadata": {},
   "outputs": [
    {
     "name": "stdout",
     "output_type": "stream",
     "text": [
      "7/7 [==============================] - 0s 2ms/step\n",
      "Predictions [-156.76437, -184.50662, -180.06094, -166.91212, -178.35226, -178.9954, -183.06871, -172.26181, -184.3431, -190.90117, -180.71974, -181.08492, -181.52994, -189.11362, -189.79776, -178.88196, -177.77356, -189.32755, -185.47488, -177.84563, -215.91528, -166.88327, -180.92606, -190.9201, -193.34901, -166.84238, -170.04562, -170.02225, -164.45224, -188.58678, -176.29378, -182.26868, -177.41252, -196.55673, -175.79407, -160.00615, -193.68484, -173.97783, -195.83968, -171.61235, -179.83955, -149.28781, -170.87215, -174.22284, -166.70805, -176.64777, -200.34149, -194.82167, -190.30144, -194.50566, -207.67189, -175.7292, -172.02858, -171.38525, -168.42653, -182.7084, -187.9543, -171.4387, -200.43896, -174.02986, -181.66449, -184.70946, -184.58084, -188.36386, -175.87943, -159.98259, -180.52823, -172.19559, -169.21405, -167.47253, -191.19467, -188.18709, -175.33087, -169.05779, -162.66031, -168.81949, -186.68085, -169.95685, -177.53247, -156.04121, -168.82307, -191.7693, -172.88533, -182.73369, -179.57169, -180.9162, -173.59058, -181.86566, -180.3035, -168.28226, -170.21292, -180.95682, -172.7484, -189.80089, -185.03154, -177.46973, -177.94977, -172.2218, -159.8677, -178.79266, -197.77187, -182.98727, -179.45673, -182.81024, -172.8024, -195.68932, -171.76602, -196.22446, -197.72949, -199.88394, -184.47229, -163.87682, -201.51988, -168.58357, -171.51692, -192.27512, -179.31128, -172.33252, -169.69214, -165.58173, -181.64578, -187.75179, -180.57036, -174.45184, -188.76868, -171.2526, -186.52827, -182.40942, -174.77162, -181.96513, -190.65913, -170.26434, -178.57617, -184.76865, -195.33157, -168.94073, -173.06453, -188.7643, -178.2347, -175.11143, -182.52496, -161.75842, -189.62871, -183.50531, -184.32469, -180.37811, -187.14966, -174.1806, -184.78003, -157.83318, -182.67566, -189.793, -177.00142, -195.40155, -199.38727, -173.46808, -183.75122, -198.13106, -176.49336, -193.1243, -175.63762, -178.46918, -178.24097, -168.83455, -179.18153, -162.66048, -183.66365, -198.34897, -172.27289, -200.76387, -189.7883, -180.56416, -189.55658, -177.49612, -187.21417, -168.70953, -179.37762, -169.43958, -173.61356, -177.72827, -176.40887, -189.09637, -162.6982, -188.07852, -170.97284, -175.7168, -186.6579, -169.47186, -178.92657, -183.4877, -145.24626, -179.31848, -177.50777, -171.76639, -177.40158, -163.62111, -183.8725, -178.3869, -182.04892, -166.75687]\n",
      "32/32 [==============================] - 0s 1ms/step\n"
     ]
    }
   ],
   "source": [
    "test_predictions = model.predict(X_test).flatten()\n",
    "\n",
    "# print(\"Elements in Test Set: \", labeled_elements)\n",
    "# print(\"Real Values\", list(y_test))\n",
    "print(\"Predictions\", list(test_predictions))\n",
    "\n",
    "values = np.concatenate((X_train, X_test), axis=0) # This line joins the values together to evaluate all of them\n",
    "predictions = model.predict(values).flatten()"
   ]
  },
  {
   "cell_type": "code",
   "execution_count": 61,
   "metadata": {},
   "outputs": [
    {
     "data": {
      "text/html": [
       "        <script type=\"text/javascript\">\n",
       "        window.PlotlyConfig = {MathJaxConfig: 'local'};\n",
       "        if (window.MathJax && window.MathJax.Hub && window.MathJax.Hub.Config) {window.MathJax.Hub.Config({SVG: {font: \"STIX-Web\"}});}\n",
       "        if (typeof require !== 'undefined') {\n",
       "        require.undef(\"plotly\");\n",
       "        requirejs.config({\n",
       "            paths: {\n",
       "                'plotly': ['https://cdn.plot.ly/plotly-2.18.0.min']\n",
       "            }\n",
       "        });\n",
       "        require(['plotly'], function(Plotly) {\n",
       "            window._Plotly = Plotly;\n",
       "        });\n",
       "        }\n",
       "        </script>\n",
       "        "
      ]
     },
     "metadata": {},
     "output_type": "display_data"
    },
    {
     "data": {
      "application/vnd.plotly.v1+json": {
       "config": {
        "linkText": "Export to plot.ly",
        "plotlyServerURL": "https://plot.ly",
        "showLink": false
       },
       "data": [
        {
         "marker": {
          "color": "red",
          "size": 12
         },
         "mode": "markers",
         "name": "SFE (Testing)",
         "type": "scatter",
         "x": [
          -180.872821978971,
          -188.305413266689,
          -187.365623922152,
          -191.24855569452,
          -173.698538608387,
          -177.344270255559,
          -183.491649494111,
          -166.697996429997,
          -185.44545280443,
          -166.333315253494,
          -181.474778530997,
          -183.499004127911,
          -178.836979681952,
          -187.78664856574,
          -183.857588485858,
          -184.527425436853,
          -204.074358809481,
          -196.024083443804,
          -183.000345587603,
          -169.263064134405,
          -196.512039551403,
          -174.07628117982,
          -191.104151549183,
          -199.362901324829,
          -194.008701658122,
          -165.566365989518,
          -191.797164620076,
          -184.134754927474,
          -176.986968942571,
          -178.233750049794,
          -189.689380506692,
          -186.444962868882,
          -178.265121680268,
          -187.157346506319,
          -187.752149763217,
          -188.057077761252,
          -180.825485766718,
          -181.337811593967,
          -183.859156709306,
          -181.711672673291,
          -192.402328442501,
          -176.683345417648,
          -181.601928421108,
          -160.524051776988,
          -180.380332958023,
          -182.464395868219,
          -198.571229172063,
          -175.716110443785,
          -180.978151653403,
          -192.869442601555,
          -175.489102033258,
          -193.045915838556,
          -161.096720112293,
          -178.372677947889,
          -173.37912833098,
          -161.985436364295,
          -196.432521476242,
          -193.910080832585,
          -170.157333646764,
          -196.363963897894,
          -196.439425949782,
          -183.372274039903,
          -198.810569480497,
          -190.933762055714,
          -183.541360522129,
          -183.093847207088,
          -171.575758743982,
          -187.062758232723,
          -187.328798199116,
          -175.334216468138,
          -180.89238883942,
          -184.72006278167,
          -186.240646284728,
          -169.313763182983,
          -179.564925882694,
          -197.561692553755,
          -191.765925892956,
          -191.91888062321,
          -172.47018481741,
          -190.510553714941,
          -169.027797192556,
          -188.255555039114,
          -183.030847765049,
          -193.528845863632,
          -193.305786725959,
          -193.38929827926,
          -210.255301028776,
          -188.116886734592,
          -195.775830771237,
          -196.619296326683,
          -185.523295472722,
          -171.123271464407,
          -185.785349652183,
          -199.123041845349,
          -184.94349847024,
          -194.646510870798,
          -185.044258758414,
          -178.800688280393,
          -185.927177623965,
          -195.96133737785,
          -201.959006389731,
          -181.385969754495,
          -178.936695959501,
          -186.907483294091,
          -179.734925635676,
          -143.672653520312,
          -196.169794067252,
          -184.672057801927,
          -178.042835720859,
          -192.701383720112,
          -176.23698675471,
          -189.834409638475,
          -186.543690262833,
          -186.223733860027,
          -184.572639559203,
          -183.896766191803,
          -191.73539464896,
          -179.491648612685,
          -201.682622382191,
          -181.588664740739,
          -194.35887618126,
          -184.52896602932,
          -178.733536364157,
          -185.724879680389,
          -199.678974179102,
          -176.941508665685,
          -189.306595547074,
          -186.917195039269,
          -172.914194695744,
          -181.454101652249,
          -164.44084453697,
          -176.164427075037,
          -195.562550396246,
          -199.538209526636,
          -171.449497208996,
          -198.106006075313,
          -200.084294586029,
          -182.748969049958,
          -185.390105866632,
          -184.121786780812,
          -168.023722711698,
          -187.499033249479,
          -198.880537849347,
          -194.233141322091,
          -186.885965889389,
          -172.587154812979,
          -203.386427997614,
          -200.889526026319,
          -199.30634748777,
          -194.480930835678,
          -187.169627800941,
          -186.613986364164,
          -171.812872836534,
          -195.447639508068,
          -200.595768597141,
          -175.878294387014,
          -167.948661991323,
          -183.872069235816,
          -186.93523311854,
          -167.754633898594,
          -198.070908800407,
          -171.282406064833,
          -188.261317578934,
          -170.469800259355,
          -168.218587640391,
          -202.515432287613,
          -176.299906551877,
          -186.489591107983,
          -176.325619118342,
          -195.002265155114,
          -170.790182436628,
          -164.745528031711,
          -195.468504486106,
          -182.477345635308,
          -173.298144128412,
          -162.588872175969,
          -195.317528942438,
          -193.165555134145,
          -187.613473300764,
          -183.047704910114,
          -176.847230170657,
          -167.95204267295,
          -168.371303025163,
          -170.01431711124,
          -176.253342061788,
          -202.554779951108,
          -181.601788465074,
          -190.947549562922,
          -180.3675520388,
          -201.664314894275,
          -183.980082008885,
          -172.998193591148,
          -192.796497793215,
          -180.577547261363,
          -174.192020383515,
          -191.513270251337,
          -184.554999996241,
          -179.714840649281,
          -180.762823304216,
          -153.417420773515
         ],
         "y": [
          -156.76437377929688,
          -184.50662231445312,
          -180.06094360351562,
          -166.91212463378906,
          -178.35226440429688,
          -178.9954071044922,
          -183.06871032714844,
          -172.26181030273438,
          -184.3430938720703,
          -190.9011688232422,
          -180.71974182128906,
          -181.0849151611328,
          -181.52993774414062,
          -189.11361694335938,
          -189.79776000976562,
          -178.8819580078125,
          -177.7735595703125,
          -189.32754516601562,
          -185.47488403320312,
          -177.8456268310547,
          -215.915283203125,
          -166.88327026367188,
          -180.92605590820312,
          -190.92010498046875,
          -193.34901428222656,
          -166.84237670898438,
          -170.04562377929688,
          -170.02224731445312,
          -164.45223999023438,
          -188.58677673339844,
          -176.2937774658203,
          -182.2686767578125,
          -177.4125213623047,
          -196.55673217773438,
          -175.7940673828125,
          -160.0061492919922,
          -193.68484497070312,
          -173.9778289794922,
          -195.8396759033203,
          -171.6123504638672,
          -179.8395538330078,
          -149.28781127929688,
          -170.8721466064453,
          -174.22283935546875,
          -166.7080535888672,
          -176.64776611328125,
          -200.34149169921875,
          -194.82167053222656,
          -190.3014373779297,
          -194.5056610107422,
          -207.67189025878906,
          -175.7292022705078,
          -172.02857971191406,
          -171.38525390625,
          -168.42652893066406,
          -182.70840454101562,
          -187.9542999267578,
          -171.43870544433594,
          -200.43896484375,
          -174.0298614501953,
          -181.66448974609375,
          -184.70945739746094,
          -184.58084106445312,
          -188.36386108398438,
          -175.87942504882812,
          -159.9825897216797,
          -180.52822875976562,
          -172.19558715820312,
          -169.21405029296875,
          -167.4725341796875,
          -191.19467163085938,
          -188.1870880126953,
          -175.33087158203125,
          -169.0577850341797,
          -162.66030883789062,
          -168.81948852539062,
          -186.68084716796875,
          -169.95684814453125,
          -177.532470703125,
          -156.0412139892578,
          -168.8230743408203,
          -191.76930236816406,
          -172.8853302001953,
          -182.7336883544922,
          -179.57168579101562,
          -180.91619873046875,
          -173.590576171875,
          -181.86566162109375,
          -180.30349731445312,
          -168.28225708007812,
          -170.21292114257812,
          -180.95681762695312,
          -172.74839782714844,
          -189.80088806152344,
          -185.0315399169922,
          -177.4697265625,
          -177.94976806640625,
          -172.2218017578125,
          -159.86770629882812,
          -178.79266357421875,
          -197.77186584472656,
          -182.98727416992188,
          -179.45672607421875,
          -182.81024169921875,
          -172.80239868164062,
          -195.68931579589844,
          -171.76602172851562,
          -196.22445678710938,
          -197.7294921875,
          -199.88394165039062,
          -184.4722900390625,
          -163.87681579589844,
          -201.51988220214844,
          -168.5835723876953,
          -171.5169219970703,
          -192.27511596679688,
          -179.311279296875,
          -172.33251953125,
          -169.692138671875,
          -165.58172607421875,
          -181.64578247070312,
          -187.7517852783203,
          -180.5703582763672,
          -174.45184326171875,
          -188.7686767578125,
          -171.25259399414062,
          -186.5282745361328,
          -182.409423828125,
          -174.77162170410156,
          -181.9651336669922,
          -190.6591339111328,
          -170.26434326171875,
          -178.576171875,
          -184.76864624023438,
          -195.33157348632812,
          -168.94073486328125,
          -173.0645294189453,
          -188.76429748535156,
          -178.2346954345703,
          -175.11143493652344,
          -182.52496337890625,
          -161.7584228515625,
          -189.6287078857422,
          -183.50531005859375,
          -184.32469177246094,
          -180.37811279296875,
          -187.149658203125,
          -174.18060302734375,
          -184.780029296875,
          -157.8331756591797,
          -182.6756591796875,
          -189.79299926757812,
          -177.0014190673828,
          -195.40155029296875,
          -199.38726806640625,
          -173.46807861328125,
          -183.751220703125,
          -198.1310577392578,
          -176.4933624267578,
          -193.12429809570312,
          -175.6376190185547,
          -178.46917724609375,
          -178.240966796875,
          -168.8345489501953,
          -179.18153381347656,
          -162.6604766845703,
          -183.6636505126953,
          -198.34896850585938,
          -172.27288818359375,
          -200.7638702392578,
          -189.78829956054688,
          -180.5641632080078,
          -189.55657958984375,
          -177.49612426757812,
          -187.21417236328125,
          -168.70953369140625,
          -179.37762451171875,
          -169.4395751953125,
          -173.61355590820312,
          -177.728271484375,
          -176.40887451171875,
          -189.09637451171875,
          -162.6981964111328,
          -188.07852172851562,
          -170.97283935546875,
          -175.716796875,
          -186.65789794921875,
          -169.47186279296875,
          -178.92657470703125,
          -183.48770141601562,
          -145.2462615966797,
          -179.3184814453125,
          -177.5077667236328,
          -171.76638793945312,
          -177.40158081054688,
          -163.62110900878906,
          -183.87249755859375,
          -178.38690185546875,
          -182.04891967773438,
          -166.75686645507812
         ]
        },
        {
         "mode": "lines",
         "name": "Match",
         "type": "scatter",
         "x": [
          -230,
          -140
         ],
         "y": [
          -230,
          -140
         ]
        }
       ],
       "layout": {
        "height": 600,
        "hovermode": "closest",
        "legend": {
         "font": {
          "size": 24
         }
        },
        "showlegend": true,
        "template": {
         "data": {
          "bar": [
           {
            "error_x": {
             "color": "#2a3f5f"
            },
            "error_y": {
             "color": "#2a3f5f"
            },
            "marker": {
             "line": {
              "color": "#E5ECF6",
              "width": 0.5
             },
             "pattern": {
              "fillmode": "overlay",
              "size": 10,
              "solidity": 0.2
             }
            },
            "type": "bar"
           }
          ],
          "barpolar": [
           {
            "marker": {
             "line": {
              "color": "#E5ECF6",
              "width": 0.5
             },
             "pattern": {
              "fillmode": "overlay",
              "size": 10,
              "solidity": 0.2
             }
            },
            "type": "barpolar"
           }
          ],
          "carpet": [
           {
            "aaxis": {
             "endlinecolor": "#2a3f5f",
             "gridcolor": "white",
             "linecolor": "white",
             "minorgridcolor": "white",
             "startlinecolor": "#2a3f5f"
            },
            "baxis": {
             "endlinecolor": "#2a3f5f",
             "gridcolor": "white",
             "linecolor": "white",
             "minorgridcolor": "white",
             "startlinecolor": "#2a3f5f"
            },
            "type": "carpet"
           }
          ],
          "choropleth": [
           {
            "colorbar": {
             "outlinewidth": 0,
             "ticks": ""
            },
            "type": "choropleth"
           }
          ],
          "contour": [
           {
            "colorbar": {
             "outlinewidth": 0,
             "ticks": ""
            },
            "colorscale": [
             [
              0,
              "#0d0887"
             ],
             [
              0.1111111111111111,
              "#46039f"
             ],
             [
              0.2222222222222222,
              "#7201a8"
             ],
             [
              0.3333333333333333,
              "#9c179e"
             ],
             [
              0.4444444444444444,
              "#bd3786"
             ],
             [
              0.5555555555555556,
              "#d8576b"
             ],
             [
              0.6666666666666666,
              "#ed7953"
             ],
             [
              0.7777777777777778,
              "#fb9f3a"
             ],
             [
              0.8888888888888888,
              "#fdca26"
             ],
             [
              1,
              "#f0f921"
             ]
            ],
            "type": "contour"
           }
          ],
          "contourcarpet": [
           {
            "colorbar": {
             "outlinewidth": 0,
             "ticks": ""
            },
            "type": "contourcarpet"
           }
          ],
          "heatmap": [
           {
            "colorbar": {
             "outlinewidth": 0,
             "ticks": ""
            },
            "colorscale": [
             [
              0,
              "#0d0887"
             ],
             [
              0.1111111111111111,
              "#46039f"
             ],
             [
              0.2222222222222222,
              "#7201a8"
             ],
             [
              0.3333333333333333,
              "#9c179e"
             ],
             [
              0.4444444444444444,
              "#bd3786"
             ],
             [
              0.5555555555555556,
              "#d8576b"
             ],
             [
              0.6666666666666666,
              "#ed7953"
             ],
             [
              0.7777777777777778,
              "#fb9f3a"
             ],
             [
              0.8888888888888888,
              "#fdca26"
             ],
             [
              1,
              "#f0f921"
             ]
            ],
            "type": "heatmap"
           }
          ],
          "heatmapgl": [
           {
            "colorbar": {
             "outlinewidth": 0,
             "ticks": ""
            },
            "colorscale": [
             [
              0,
              "#0d0887"
             ],
             [
              0.1111111111111111,
              "#46039f"
             ],
             [
              0.2222222222222222,
              "#7201a8"
             ],
             [
              0.3333333333333333,
              "#9c179e"
             ],
             [
              0.4444444444444444,
              "#bd3786"
             ],
             [
              0.5555555555555556,
              "#d8576b"
             ],
             [
              0.6666666666666666,
              "#ed7953"
             ],
             [
              0.7777777777777778,
              "#fb9f3a"
             ],
             [
              0.8888888888888888,
              "#fdca26"
             ],
             [
              1,
              "#f0f921"
             ]
            ],
            "type": "heatmapgl"
           }
          ],
          "histogram": [
           {
            "marker": {
             "pattern": {
              "fillmode": "overlay",
              "size": 10,
              "solidity": 0.2
             }
            },
            "type": "histogram"
           }
          ],
          "histogram2d": [
           {
            "colorbar": {
             "outlinewidth": 0,
             "ticks": ""
            },
            "colorscale": [
             [
              0,
              "#0d0887"
             ],
             [
              0.1111111111111111,
              "#46039f"
             ],
             [
              0.2222222222222222,
              "#7201a8"
             ],
             [
              0.3333333333333333,
              "#9c179e"
             ],
             [
              0.4444444444444444,
              "#bd3786"
             ],
             [
              0.5555555555555556,
              "#d8576b"
             ],
             [
              0.6666666666666666,
              "#ed7953"
             ],
             [
              0.7777777777777778,
              "#fb9f3a"
             ],
             [
              0.8888888888888888,
              "#fdca26"
             ],
             [
              1,
              "#f0f921"
             ]
            ],
            "type": "histogram2d"
           }
          ],
          "histogram2dcontour": [
           {
            "colorbar": {
             "outlinewidth": 0,
             "ticks": ""
            },
            "colorscale": [
             [
              0,
              "#0d0887"
             ],
             [
              0.1111111111111111,
              "#46039f"
             ],
             [
              0.2222222222222222,
              "#7201a8"
             ],
             [
              0.3333333333333333,
              "#9c179e"
             ],
             [
              0.4444444444444444,
              "#bd3786"
             ],
             [
              0.5555555555555556,
              "#d8576b"
             ],
             [
              0.6666666666666666,
              "#ed7953"
             ],
             [
              0.7777777777777778,
              "#fb9f3a"
             ],
             [
              0.8888888888888888,
              "#fdca26"
             ],
             [
              1,
              "#f0f921"
             ]
            ],
            "type": "histogram2dcontour"
           }
          ],
          "mesh3d": [
           {
            "colorbar": {
             "outlinewidth": 0,
             "ticks": ""
            },
            "type": "mesh3d"
           }
          ],
          "parcoords": [
           {
            "line": {
             "colorbar": {
              "outlinewidth": 0,
              "ticks": ""
             }
            },
            "type": "parcoords"
           }
          ],
          "pie": [
           {
            "automargin": true,
            "type": "pie"
           }
          ],
          "scatter": [
           {
            "fillpattern": {
             "fillmode": "overlay",
             "size": 10,
             "solidity": 0.2
            },
            "type": "scatter"
           }
          ],
          "scatter3d": [
           {
            "line": {
             "colorbar": {
              "outlinewidth": 0,
              "ticks": ""
             }
            },
            "marker": {
             "colorbar": {
              "outlinewidth": 0,
              "ticks": ""
             }
            },
            "type": "scatter3d"
           }
          ],
          "scattercarpet": [
           {
            "marker": {
             "colorbar": {
              "outlinewidth": 0,
              "ticks": ""
             }
            },
            "type": "scattercarpet"
           }
          ],
          "scattergeo": [
           {
            "marker": {
             "colorbar": {
              "outlinewidth": 0,
              "ticks": ""
             }
            },
            "type": "scattergeo"
           }
          ],
          "scattergl": [
           {
            "marker": {
             "colorbar": {
              "outlinewidth": 0,
              "ticks": ""
             }
            },
            "type": "scattergl"
           }
          ],
          "scattermapbox": [
           {
            "marker": {
             "colorbar": {
              "outlinewidth": 0,
              "ticks": ""
             }
            },
            "type": "scattermapbox"
           }
          ],
          "scatterpolar": [
           {
            "marker": {
             "colorbar": {
              "outlinewidth": 0,
              "ticks": ""
             }
            },
            "type": "scatterpolar"
           }
          ],
          "scatterpolargl": [
           {
            "marker": {
             "colorbar": {
              "outlinewidth": 0,
              "ticks": ""
             }
            },
            "type": "scatterpolargl"
           }
          ],
          "scatterternary": [
           {
            "marker": {
             "colorbar": {
              "outlinewidth": 0,
              "ticks": ""
             }
            },
            "type": "scatterternary"
           }
          ],
          "surface": [
           {
            "colorbar": {
             "outlinewidth": 0,
             "ticks": ""
            },
            "colorscale": [
             [
              0,
              "#0d0887"
             ],
             [
              0.1111111111111111,
              "#46039f"
             ],
             [
              0.2222222222222222,
              "#7201a8"
             ],
             [
              0.3333333333333333,
              "#9c179e"
             ],
             [
              0.4444444444444444,
              "#bd3786"
             ],
             [
              0.5555555555555556,
              "#d8576b"
             ],
             [
              0.6666666666666666,
              "#ed7953"
             ],
             [
              0.7777777777777778,
              "#fb9f3a"
             ],
             [
              0.8888888888888888,
              "#fdca26"
             ],
             [
              1,
              "#f0f921"
             ]
            ],
            "type": "surface"
           }
          ],
          "table": [
           {
            "cells": {
             "fill": {
              "color": "#EBF0F8"
             },
             "line": {
              "color": "white"
             }
            },
            "header": {
             "fill": {
              "color": "#C8D4E3"
             },
             "line": {
              "color": "white"
             }
            },
            "type": "table"
           }
          ]
         },
         "layout": {
          "annotationdefaults": {
           "arrowcolor": "#2a3f5f",
           "arrowhead": 0,
           "arrowwidth": 1
          },
          "autotypenumbers": "strict",
          "coloraxis": {
           "colorbar": {
            "outlinewidth": 0,
            "ticks": ""
           }
          },
          "colorscale": {
           "diverging": [
            [
             0,
             "#8e0152"
            ],
            [
             0.1,
             "#c51b7d"
            ],
            [
             0.2,
             "#de77ae"
            ],
            [
             0.3,
             "#f1b6da"
            ],
            [
             0.4,
             "#fde0ef"
            ],
            [
             0.5,
             "#f7f7f7"
            ],
            [
             0.6,
             "#e6f5d0"
            ],
            [
             0.7,
             "#b8e186"
            ],
            [
             0.8,
             "#7fbc41"
            ],
            [
             0.9,
             "#4d9221"
            ],
            [
             1,
             "#276419"
            ]
           ],
           "sequential": [
            [
             0,
             "#0d0887"
            ],
            [
             0.1111111111111111,
             "#46039f"
            ],
            [
             0.2222222222222222,
             "#7201a8"
            ],
            [
             0.3333333333333333,
             "#9c179e"
            ],
            [
             0.4444444444444444,
             "#bd3786"
            ],
            [
             0.5555555555555556,
             "#d8576b"
            ],
            [
             0.6666666666666666,
             "#ed7953"
            ],
            [
             0.7777777777777778,
             "#fb9f3a"
            ],
            [
             0.8888888888888888,
             "#fdca26"
            ],
            [
             1,
             "#f0f921"
            ]
           ],
           "sequentialminus": [
            [
             0,
             "#0d0887"
            ],
            [
             0.1111111111111111,
             "#46039f"
            ],
            [
             0.2222222222222222,
             "#7201a8"
            ],
            [
             0.3333333333333333,
             "#9c179e"
            ],
            [
             0.4444444444444444,
             "#bd3786"
            ],
            [
             0.5555555555555556,
             "#d8576b"
            ],
            [
             0.6666666666666666,
             "#ed7953"
            ],
            [
             0.7777777777777778,
             "#fb9f3a"
            ],
            [
             0.8888888888888888,
             "#fdca26"
            ],
            [
             1,
             "#f0f921"
            ]
           ]
          },
          "colorway": [
           "#636efa",
           "#EF553B",
           "#00cc96",
           "#ab63fa",
           "#FFA15A",
           "#19d3f3",
           "#FF6692",
           "#B6E880",
           "#FF97FF",
           "#FECB52"
          ],
          "font": {
           "color": "#2a3f5f"
          },
          "geo": {
           "bgcolor": "white",
           "lakecolor": "white",
           "landcolor": "#E5ECF6",
           "showlakes": true,
           "showland": true,
           "subunitcolor": "white"
          },
          "hoverlabel": {
           "align": "left"
          },
          "hovermode": "closest",
          "mapbox": {
           "style": "light"
          },
          "paper_bgcolor": "white",
          "plot_bgcolor": "#E5ECF6",
          "polar": {
           "angularaxis": {
            "gridcolor": "white",
            "linecolor": "white",
            "ticks": ""
           },
           "bgcolor": "#E5ECF6",
           "radialaxis": {
            "gridcolor": "white",
            "linecolor": "white",
            "ticks": ""
           }
          },
          "scene": {
           "xaxis": {
            "backgroundcolor": "#E5ECF6",
            "gridcolor": "white",
            "gridwidth": 2,
            "linecolor": "white",
            "showbackground": true,
            "ticks": "",
            "zerolinecolor": "white"
           },
           "yaxis": {
            "backgroundcolor": "#E5ECF6",
            "gridcolor": "white",
            "gridwidth": 2,
            "linecolor": "white",
            "showbackground": true,
            "ticks": "",
            "zerolinecolor": "white"
           },
           "zaxis": {
            "backgroundcolor": "#E5ECF6",
            "gridcolor": "white",
            "gridwidth": 2,
            "linecolor": "white",
            "showbackground": true,
            "ticks": "",
            "zerolinecolor": "white"
           }
          },
          "shapedefaults": {
           "line": {
            "color": "#2a3f5f"
           }
          },
          "ternary": {
           "aaxis": {
            "gridcolor": "white",
            "linecolor": "white",
            "ticks": ""
           },
           "baxis": {
            "gridcolor": "white",
            "linecolor": "white",
            "ticks": ""
           },
           "bgcolor": "#E5ECF6",
           "caxis": {
            "gridcolor": "white",
            "linecolor": "white",
            "ticks": ""
           }
          },
          "title": {
           "x": 0.05
          },
          "xaxis": {
           "automargin": true,
           "gridcolor": "white",
           "linecolor": "white",
           "ticks": "",
           "title": {
            "standoff": 15
           },
           "zerolinecolor": "white",
           "zerolinewidth": 2
          },
          "yaxis": {
           "automargin": true,
           "gridcolor": "white",
           "linecolor": "white",
           "ticks": "",
           "title": {
            "standoff": 15
           },
           "zerolinecolor": "white",
           "zerolinewidth": 2
          }
         }
        },
        "title": {
         "font": {
          "size": 28
         },
         "text": "Neural Network Model - SFE"
        },
        "width": 1000,
        "xaxis": {
         "gridwidth": 1,
         "tickfont": {
          "size": 18
         },
         "title": {
          "font": {
           "size": 24
          },
          "text": "Real Values (GPa)"
         },
         "zeroline": false
        },
        "yaxis": {
         "gridwidth": 1,
         "tickfont": {
          "size": 18
         },
         "title": {
          "font": {
           "size": 24
          },
          "text": "Prediction (GPa)"
         },
         "zeroline": false
        }
       }
      },
      "text/html": [
       "<div>                            <div id=\"43edabd9-01da-4466-ab61-4ee51863e0dc\" class=\"plotly-graph-div\" style=\"height:600px; width:1000px;\"></div>            <script type=\"text/javascript\">                require([\"plotly\"], function(Plotly) {                    window.PLOTLYENV=window.PLOTLYENV || {};                                    if (document.getElementById(\"43edabd9-01da-4466-ab61-4ee51863e0dc\")) {                    Plotly.newPlot(                        \"43edabd9-01da-4466-ab61-4ee51863e0dc\",                        [{\"marker\":{\"color\":\"red\",\"size\":12},\"mode\":\"markers\",\"name\":\"SFE (Testing)\",\"x\":[-180.872821978971,-188.305413266689,-187.365623922152,-191.24855569452,-173.698538608387,-177.344270255559,-183.491649494111,-166.697996429997,-185.44545280443,-166.333315253494,-181.474778530997,-183.499004127911,-178.836979681952,-187.78664856574,-183.857588485858,-184.527425436853,-204.074358809481,-196.024083443804,-183.000345587603,-169.263064134405,-196.512039551403,-174.07628117982,-191.104151549183,-199.362901324829,-194.008701658122,-165.566365989518,-191.797164620076,-184.134754927474,-176.986968942571,-178.233750049794,-189.689380506692,-186.444962868882,-178.265121680268,-187.157346506319,-187.752149763217,-188.057077761252,-180.825485766718,-181.337811593967,-183.859156709306,-181.711672673291,-192.402328442501,-176.683345417648,-181.601928421108,-160.524051776988,-180.380332958023,-182.464395868219,-198.571229172063,-175.716110443785,-180.978151653403,-192.869442601555,-175.489102033258,-193.045915838556,-161.096720112293,-178.372677947889,-173.37912833098,-161.985436364295,-196.432521476242,-193.910080832585,-170.157333646764,-196.363963897894,-196.439425949782,-183.372274039903,-198.810569480497,-190.933762055714,-183.541360522129,-183.093847207088,-171.575758743982,-187.062758232723,-187.328798199116,-175.334216468138,-180.89238883942,-184.72006278167,-186.240646284728,-169.313763182983,-179.564925882694,-197.561692553755,-191.765925892956,-191.91888062321,-172.47018481741,-190.510553714941,-169.027797192556,-188.255555039114,-183.030847765049,-193.528845863632,-193.305786725959,-193.38929827926,-210.255301028776,-188.116886734592,-195.775830771237,-196.619296326683,-185.523295472722,-171.123271464407,-185.785349652183,-199.123041845349,-184.94349847024,-194.646510870798,-185.044258758414,-178.800688280393,-185.927177623965,-195.96133737785,-201.959006389731,-181.385969754495,-178.936695959501,-186.907483294091,-179.734925635676,-143.672653520312,-196.169794067252,-184.672057801927,-178.042835720859,-192.701383720112,-176.23698675471,-189.834409638475,-186.543690262833,-186.223733860027,-184.572639559203,-183.896766191803,-191.73539464896,-179.491648612685,-201.682622382191,-181.588664740739,-194.35887618126,-184.52896602932,-178.733536364157,-185.724879680389,-199.678974179102,-176.941508665685,-189.306595547074,-186.917195039269,-172.914194695744,-181.454101652249,-164.44084453697,-176.164427075037,-195.562550396246,-199.538209526636,-171.449497208996,-198.106006075313,-200.084294586029,-182.748969049958,-185.390105866632,-184.121786780812,-168.023722711698,-187.499033249479,-198.880537849347,-194.233141322091,-186.885965889389,-172.587154812979,-203.386427997614,-200.889526026319,-199.30634748777,-194.480930835678,-187.169627800941,-186.613986364164,-171.812872836534,-195.447639508068,-200.595768597141,-175.878294387014,-167.948661991323,-183.872069235816,-186.93523311854,-167.754633898594,-198.070908800407,-171.282406064833,-188.261317578934,-170.469800259355,-168.218587640391,-202.515432287613,-176.299906551877,-186.489591107983,-176.325619118342,-195.002265155114,-170.790182436628,-164.745528031711,-195.468504486106,-182.477345635308,-173.298144128412,-162.588872175969,-195.317528942438,-193.165555134145,-187.613473300764,-183.047704910114,-176.847230170657,-167.95204267295,-168.371303025163,-170.01431711124,-176.253342061788,-202.554779951108,-181.601788465074,-190.947549562922,-180.3675520388,-201.664314894275,-183.980082008885,-172.998193591148,-192.796497793215,-180.577547261363,-174.192020383515,-191.513270251337,-184.554999996241,-179.714840649281,-180.762823304216,-153.417420773515],\"y\":[-156.76437377929688,-184.50662231445312,-180.06094360351562,-166.91212463378906,-178.35226440429688,-178.9954071044922,-183.06871032714844,-172.26181030273438,-184.3430938720703,-190.9011688232422,-180.71974182128906,-181.0849151611328,-181.52993774414062,-189.11361694335938,-189.79776000976562,-178.8819580078125,-177.7735595703125,-189.32754516601562,-185.47488403320312,-177.8456268310547,-215.915283203125,-166.88327026367188,-180.92605590820312,-190.92010498046875,-193.34901428222656,-166.84237670898438,-170.04562377929688,-170.02224731445312,-164.45223999023438,-188.58677673339844,-176.2937774658203,-182.2686767578125,-177.4125213623047,-196.55673217773438,-175.7940673828125,-160.0061492919922,-193.68484497070312,-173.9778289794922,-195.8396759033203,-171.6123504638672,-179.8395538330078,-149.28781127929688,-170.8721466064453,-174.22283935546875,-166.7080535888672,-176.64776611328125,-200.34149169921875,-194.82167053222656,-190.3014373779297,-194.5056610107422,-207.67189025878906,-175.7292022705078,-172.02857971191406,-171.38525390625,-168.42652893066406,-182.70840454101562,-187.9542999267578,-171.43870544433594,-200.43896484375,-174.0298614501953,-181.66448974609375,-184.70945739746094,-184.58084106445312,-188.36386108398438,-175.87942504882812,-159.9825897216797,-180.52822875976562,-172.19558715820312,-169.21405029296875,-167.4725341796875,-191.19467163085938,-188.1870880126953,-175.33087158203125,-169.0577850341797,-162.66030883789062,-168.81948852539062,-186.68084716796875,-169.95684814453125,-177.532470703125,-156.0412139892578,-168.8230743408203,-191.76930236816406,-172.8853302001953,-182.7336883544922,-179.57168579101562,-180.91619873046875,-173.590576171875,-181.86566162109375,-180.30349731445312,-168.28225708007812,-170.21292114257812,-180.95681762695312,-172.74839782714844,-189.80088806152344,-185.0315399169922,-177.4697265625,-177.94976806640625,-172.2218017578125,-159.86770629882812,-178.79266357421875,-197.77186584472656,-182.98727416992188,-179.45672607421875,-182.81024169921875,-172.80239868164062,-195.68931579589844,-171.76602172851562,-196.22445678710938,-197.7294921875,-199.88394165039062,-184.4722900390625,-163.87681579589844,-201.51988220214844,-168.5835723876953,-171.5169219970703,-192.27511596679688,-179.311279296875,-172.33251953125,-169.692138671875,-165.58172607421875,-181.64578247070312,-187.7517852783203,-180.5703582763672,-174.45184326171875,-188.7686767578125,-171.25259399414062,-186.5282745361328,-182.409423828125,-174.77162170410156,-181.9651336669922,-190.6591339111328,-170.26434326171875,-178.576171875,-184.76864624023438,-195.33157348632812,-168.94073486328125,-173.0645294189453,-188.76429748535156,-178.2346954345703,-175.11143493652344,-182.52496337890625,-161.7584228515625,-189.6287078857422,-183.50531005859375,-184.32469177246094,-180.37811279296875,-187.149658203125,-174.18060302734375,-184.780029296875,-157.8331756591797,-182.6756591796875,-189.79299926757812,-177.0014190673828,-195.40155029296875,-199.38726806640625,-173.46807861328125,-183.751220703125,-198.1310577392578,-176.4933624267578,-193.12429809570312,-175.6376190185547,-178.46917724609375,-178.240966796875,-168.8345489501953,-179.18153381347656,-162.6604766845703,-183.6636505126953,-198.34896850585938,-172.27288818359375,-200.7638702392578,-189.78829956054688,-180.5641632080078,-189.55657958984375,-177.49612426757812,-187.21417236328125,-168.70953369140625,-179.37762451171875,-169.4395751953125,-173.61355590820312,-177.728271484375,-176.40887451171875,-189.09637451171875,-162.6981964111328,-188.07852172851562,-170.97283935546875,-175.716796875,-186.65789794921875,-169.47186279296875,-178.92657470703125,-183.48770141601562,-145.2462615966797,-179.3184814453125,-177.5077667236328,-171.76638793945312,-177.40158081054688,-163.62110900878906,-183.87249755859375,-178.38690185546875,-182.04891967773438,-166.75686645507812],\"type\":\"scatter\"},{\"mode\":\"lines\",\"name\":\"Match\",\"x\":[-230,-140],\"y\":[-230,-140],\"type\":\"scatter\"}],                        {\"height\":600,\"hovermode\":\"closest\",\"legend\":{\"font\":{\"size\":24}},\"showlegend\":true,\"template\":{\"data\":{\"barpolar\":[{\"marker\":{\"line\":{\"color\":\"#E5ECF6\",\"width\":0.5},\"pattern\":{\"fillmode\":\"overlay\",\"size\":10,\"solidity\":0.2}},\"type\":\"barpolar\"}],\"bar\":[{\"error_x\":{\"color\":\"#2a3f5f\"},\"error_y\":{\"color\":\"#2a3f5f\"},\"marker\":{\"line\":{\"color\":\"#E5ECF6\",\"width\":0.5},\"pattern\":{\"fillmode\":\"overlay\",\"size\":10,\"solidity\":0.2}},\"type\":\"bar\"}],\"carpet\":[{\"aaxis\":{\"endlinecolor\":\"#2a3f5f\",\"gridcolor\":\"white\",\"linecolor\":\"white\",\"minorgridcolor\":\"white\",\"startlinecolor\":\"#2a3f5f\"},\"baxis\":{\"endlinecolor\":\"#2a3f5f\",\"gridcolor\":\"white\",\"linecolor\":\"white\",\"minorgridcolor\":\"white\",\"startlinecolor\":\"#2a3f5f\"},\"type\":\"carpet\"}],\"choropleth\":[{\"colorbar\":{\"outlinewidth\":0,\"ticks\":\"\"},\"type\":\"choropleth\"}],\"contourcarpet\":[{\"colorbar\":{\"outlinewidth\":0,\"ticks\":\"\"},\"type\":\"contourcarpet\"}],\"contour\":[{\"colorbar\":{\"outlinewidth\":0,\"ticks\":\"\"},\"colorscale\":[[0.0,\"#0d0887\"],[0.1111111111111111,\"#46039f\"],[0.2222222222222222,\"#7201a8\"],[0.3333333333333333,\"#9c179e\"],[0.4444444444444444,\"#bd3786\"],[0.5555555555555556,\"#d8576b\"],[0.6666666666666666,\"#ed7953\"],[0.7777777777777778,\"#fb9f3a\"],[0.8888888888888888,\"#fdca26\"],[1.0,\"#f0f921\"]],\"type\":\"contour\"}],\"heatmapgl\":[{\"colorbar\":{\"outlinewidth\":0,\"ticks\":\"\"},\"colorscale\":[[0.0,\"#0d0887\"],[0.1111111111111111,\"#46039f\"],[0.2222222222222222,\"#7201a8\"],[0.3333333333333333,\"#9c179e\"],[0.4444444444444444,\"#bd3786\"],[0.5555555555555556,\"#d8576b\"],[0.6666666666666666,\"#ed7953\"],[0.7777777777777778,\"#fb9f3a\"],[0.8888888888888888,\"#fdca26\"],[1.0,\"#f0f921\"]],\"type\":\"heatmapgl\"}],\"heatmap\":[{\"colorbar\":{\"outlinewidth\":0,\"ticks\":\"\"},\"colorscale\":[[0.0,\"#0d0887\"],[0.1111111111111111,\"#46039f\"],[0.2222222222222222,\"#7201a8\"],[0.3333333333333333,\"#9c179e\"],[0.4444444444444444,\"#bd3786\"],[0.5555555555555556,\"#d8576b\"],[0.6666666666666666,\"#ed7953\"],[0.7777777777777778,\"#fb9f3a\"],[0.8888888888888888,\"#fdca26\"],[1.0,\"#f0f921\"]],\"type\":\"heatmap\"}],\"histogram2dcontour\":[{\"colorbar\":{\"outlinewidth\":0,\"ticks\":\"\"},\"colorscale\":[[0.0,\"#0d0887\"],[0.1111111111111111,\"#46039f\"],[0.2222222222222222,\"#7201a8\"],[0.3333333333333333,\"#9c179e\"],[0.4444444444444444,\"#bd3786\"],[0.5555555555555556,\"#d8576b\"],[0.6666666666666666,\"#ed7953\"],[0.7777777777777778,\"#fb9f3a\"],[0.8888888888888888,\"#fdca26\"],[1.0,\"#f0f921\"]],\"type\":\"histogram2dcontour\"}],\"histogram2d\":[{\"colorbar\":{\"outlinewidth\":0,\"ticks\":\"\"},\"colorscale\":[[0.0,\"#0d0887\"],[0.1111111111111111,\"#46039f\"],[0.2222222222222222,\"#7201a8\"],[0.3333333333333333,\"#9c179e\"],[0.4444444444444444,\"#bd3786\"],[0.5555555555555556,\"#d8576b\"],[0.6666666666666666,\"#ed7953\"],[0.7777777777777778,\"#fb9f3a\"],[0.8888888888888888,\"#fdca26\"],[1.0,\"#f0f921\"]],\"type\":\"histogram2d\"}],\"histogram\":[{\"marker\":{\"pattern\":{\"fillmode\":\"overlay\",\"size\":10,\"solidity\":0.2}},\"type\":\"histogram\"}],\"mesh3d\":[{\"colorbar\":{\"outlinewidth\":0,\"ticks\":\"\"},\"type\":\"mesh3d\"}],\"parcoords\":[{\"line\":{\"colorbar\":{\"outlinewidth\":0,\"ticks\":\"\"}},\"type\":\"parcoords\"}],\"pie\":[{\"automargin\":true,\"type\":\"pie\"}],\"scatter3d\":[{\"line\":{\"colorbar\":{\"outlinewidth\":0,\"ticks\":\"\"}},\"marker\":{\"colorbar\":{\"outlinewidth\":0,\"ticks\":\"\"}},\"type\":\"scatter3d\"}],\"scattercarpet\":[{\"marker\":{\"colorbar\":{\"outlinewidth\":0,\"ticks\":\"\"}},\"type\":\"scattercarpet\"}],\"scattergeo\":[{\"marker\":{\"colorbar\":{\"outlinewidth\":0,\"ticks\":\"\"}},\"type\":\"scattergeo\"}],\"scattergl\":[{\"marker\":{\"colorbar\":{\"outlinewidth\":0,\"ticks\":\"\"}},\"type\":\"scattergl\"}],\"scattermapbox\":[{\"marker\":{\"colorbar\":{\"outlinewidth\":0,\"ticks\":\"\"}},\"type\":\"scattermapbox\"}],\"scatterpolargl\":[{\"marker\":{\"colorbar\":{\"outlinewidth\":0,\"ticks\":\"\"}},\"type\":\"scatterpolargl\"}],\"scatterpolar\":[{\"marker\":{\"colorbar\":{\"outlinewidth\":0,\"ticks\":\"\"}},\"type\":\"scatterpolar\"}],\"scatter\":[{\"fillpattern\":{\"fillmode\":\"overlay\",\"size\":10,\"solidity\":0.2},\"type\":\"scatter\"}],\"scatterternary\":[{\"marker\":{\"colorbar\":{\"outlinewidth\":0,\"ticks\":\"\"}},\"type\":\"scatterternary\"}],\"surface\":[{\"colorbar\":{\"outlinewidth\":0,\"ticks\":\"\"},\"colorscale\":[[0.0,\"#0d0887\"],[0.1111111111111111,\"#46039f\"],[0.2222222222222222,\"#7201a8\"],[0.3333333333333333,\"#9c179e\"],[0.4444444444444444,\"#bd3786\"],[0.5555555555555556,\"#d8576b\"],[0.6666666666666666,\"#ed7953\"],[0.7777777777777778,\"#fb9f3a\"],[0.8888888888888888,\"#fdca26\"],[1.0,\"#f0f921\"]],\"type\":\"surface\"}],\"table\":[{\"cells\":{\"fill\":{\"color\":\"#EBF0F8\"},\"line\":{\"color\":\"white\"}},\"header\":{\"fill\":{\"color\":\"#C8D4E3\"},\"line\":{\"color\":\"white\"}},\"type\":\"table\"}]},\"layout\":{\"annotationdefaults\":{\"arrowcolor\":\"#2a3f5f\",\"arrowhead\":0,\"arrowwidth\":1},\"autotypenumbers\":\"strict\",\"coloraxis\":{\"colorbar\":{\"outlinewidth\":0,\"ticks\":\"\"}},\"colorscale\":{\"diverging\":[[0,\"#8e0152\"],[0.1,\"#c51b7d\"],[0.2,\"#de77ae\"],[0.3,\"#f1b6da\"],[0.4,\"#fde0ef\"],[0.5,\"#f7f7f7\"],[0.6,\"#e6f5d0\"],[0.7,\"#b8e186\"],[0.8,\"#7fbc41\"],[0.9,\"#4d9221\"],[1,\"#276419\"]],\"sequential\":[[0.0,\"#0d0887\"],[0.1111111111111111,\"#46039f\"],[0.2222222222222222,\"#7201a8\"],[0.3333333333333333,\"#9c179e\"],[0.4444444444444444,\"#bd3786\"],[0.5555555555555556,\"#d8576b\"],[0.6666666666666666,\"#ed7953\"],[0.7777777777777778,\"#fb9f3a\"],[0.8888888888888888,\"#fdca26\"],[1.0,\"#f0f921\"]],\"sequentialminus\":[[0.0,\"#0d0887\"],[0.1111111111111111,\"#46039f\"],[0.2222222222222222,\"#7201a8\"],[0.3333333333333333,\"#9c179e\"],[0.4444444444444444,\"#bd3786\"],[0.5555555555555556,\"#d8576b\"],[0.6666666666666666,\"#ed7953\"],[0.7777777777777778,\"#fb9f3a\"],[0.8888888888888888,\"#fdca26\"],[1.0,\"#f0f921\"]]},\"colorway\":[\"#636efa\",\"#EF553B\",\"#00cc96\",\"#ab63fa\",\"#FFA15A\",\"#19d3f3\",\"#FF6692\",\"#B6E880\",\"#FF97FF\",\"#FECB52\"],\"font\":{\"color\":\"#2a3f5f\"},\"geo\":{\"bgcolor\":\"white\",\"lakecolor\":\"white\",\"landcolor\":\"#E5ECF6\",\"showlakes\":true,\"showland\":true,\"subunitcolor\":\"white\"},\"hoverlabel\":{\"align\":\"left\"},\"hovermode\":\"closest\",\"mapbox\":{\"style\":\"light\"},\"paper_bgcolor\":\"white\",\"plot_bgcolor\":\"#E5ECF6\",\"polar\":{\"angularaxis\":{\"gridcolor\":\"white\",\"linecolor\":\"white\",\"ticks\":\"\"},\"bgcolor\":\"#E5ECF6\",\"radialaxis\":{\"gridcolor\":\"white\",\"linecolor\":\"white\",\"ticks\":\"\"}},\"scene\":{\"xaxis\":{\"backgroundcolor\":\"#E5ECF6\",\"gridcolor\":\"white\",\"gridwidth\":2,\"linecolor\":\"white\",\"showbackground\":true,\"ticks\":\"\",\"zerolinecolor\":\"white\"},\"yaxis\":{\"backgroundcolor\":\"#E5ECF6\",\"gridcolor\":\"white\",\"gridwidth\":2,\"linecolor\":\"white\",\"showbackground\":true,\"ticks\":\"\",\"zerolinecolor\":\"white\"},\"zaxis\":{\"backgroundcolor\":\"#E5ECF6\",\"gridcolor\":\"white\",\"gridwidth\":2,\"linecolor\":\"white\",\"showbackground\":true,\"ticks\":\"\",\"zerolinecolor\":\"white\"}},\"shapedefaults\":{\"line\":{\"color\":\"#2a3f5f\"}},\"ternary\":{\"aaxis\":{\"gridcolor\":\"white\",\"linecolor\":\"white\",\"ticks\":\"\"},\"baxis\":{\"gridcolor\":\"white\",\"linecolor\":\"white\",\"ticks\":\"\"},\"bgcolor\":\"#E5ECF6\",\"caxis\":{\"gridcolor\":\"white\",\"linecolor\":\"white\",\"ticks\":\"\"}},\"title\":{\"x\":0.05},\"xaxis\":{\"automargin\":true,\"gridcolor\":\"white\",\"linecolor\":\"white\",\"ticks\":\"\",\"title\":{\"standoff\":15},\"zerolinecolor\":\"white\",\"zerolinewidth\":2},\"yaxis\":{\"automargin\":true,\"gridcolor\":\"white\",\"linecolor\":\"white\",\"ticks\":\"\",\"title\":{\"standoff\":15},\"zerolinecolor\":\"white\",\"zerolinewidth\":2}}},\"title\":{\"font\":{\"size\":28},\"text\":\"Neural Network Model - SFE\"},\"width\":1000,\"xaxis\":{\"gridwidth\":1,\"tickfont\":{\"size\":18},\"title\":{\"font\":{\"size\":24},\"text\":\"Real Values (GPa)\"},\"zeroline\":false},\"yaxis\":{\"gridwidth\":1,\"tickfont\":{\"size\":18},\"title\":{\"font\":{\"size\":24},\"text\":\"Prediction (GPa)\"},\"zeroline\":false}},                        {\"responsive\": true}                    ).then(function(){\n",
       "                            \n",
       "var gd = document.getElementById('43edabd9-01da-4466-ab61-4ee51863e0dc');\n",
       "var x = new MutationObserver(function (mutations, observer) {{\n",
       "        var display = window.getComputedStyle(gd).display;\n",
       "        if (!display || display === 'none') {{\n",
       "            console.log([gd, 'removed!']);\n",
       "            Plotly.purge(gd);\n",
       "            observer.disconnect();\n",
       "        }}\n",
       "}});\n",
       "\n",
       "// Listen for the removal of the full notebook cells\n",
       "var notebookContainer = gd.closest('#notebook-container');\n",
       "if (notebookContainer) {{\n",
       "    x.observe(notebookContainer, {childList: true});\n",
       "}}\n",
       "\n",
       "// Listen for the clearing of the current output cell\n",
       "var outputEl = gd.closest('.output');\n",
       "if (outputEl) {{\n",
       "    x.observe(outputEl, {childList: true});\n",
       "}}\n",
       "\n",
       "                        })                };                });            </script>        </div>"
      ]
     },
     "metadata": {},
     "output_type": "display_data"
    }
   ],
   "source": [
    "import plotly\n",
    "import plotly.graph_objs as go\n",
    "from plotly.offline import iplot\n",
    "\n",
    "plotly.offline.init_notebook_mode(connected=True)\n",
    "\n",
    "layout0= go.Layout(title=go.layout.Title(text=\"Neural Network Model - SFE\", font=dict(size=28)), hovermode= 'closest', width = 1000, height=600, showlegend=True,  # Hovermode establishes the way the labels that appear when you hover are arranged # Establishing a square plot width=height\n",
    "    xaxis= dict(title=go.layout.xaxis.Title(text='Real Values (GPa)', font=dict(size=24)), zeroline= False, gridwidth= 1, tickfont=dict(size=18)), # Axis Titles. Removing the X-axis Mark. Adding a Grid\n",
    "    yaxis= dict(title=go.layout.yaxis.Title(text='Prediction (GPa)', font=dict(size=24)), zeroline= False, gridwidth= 1, tickfont=dict(size=18)), # Axis Titles. Removing the Y-axis Mark. Adding a Grid\n",
    "    legend=dict(font=dict(size=24))) # Adding a legend\n",
    "\n",
    "trace0 = go.Scatter(x = y_data, y = predictions.flatten(), mode = 'markers', marker= dict(size= 12, color= 'blue'),  name = 'SFE (Training)')\n",
    "trace1 = go.Scatter(x = y_test.flatten(), y = test_predictions.flatten(), mode = 'markers', marker= dict(size= 12, color= 'red'),  name = 'SFE (Testing)')\n",
    "trace2 = go.Scatter(x = [-230,-140], y = [-230,-140], mode = 'lines', name = \"Match\") # This trace is the line X = Y which would indicate that the Prediction equals the real value\n",
    "\n",
    "data = [trace1, trace2]\n",
    "fig= go.Figure(data, layout=layout0)\n",
    "iplot(fig)"
   ]
  }
 ],
 "metadata": {
  "kernelspec": {
   "display_name": "Python 3.9.13 ('tf')",
   "language": "python",
   "name": "python3"
  },
  "language_info": {
   "codemirror_mode": {
    "name": "ipython",
    "version": 3
   },
   "file_extension": ".py",
   "mimetype": "text/x-python",
   "name": "python",
   "nbconvert_exporter": "python",
   "pygments_lexer": "ipython3",
   "version": "3.9.13"
  },
  "orig_nbformat": 4,
  "vscode": {
   "interpreter": {
    "hash": "8e87aef9a485c4526e8b3bfb32ec851fd7dcecba23d4272d26ecf540d618c9f7"
   }
  }
 },
 "nbformat": 4,
 "nbformat_minor": 2
}
